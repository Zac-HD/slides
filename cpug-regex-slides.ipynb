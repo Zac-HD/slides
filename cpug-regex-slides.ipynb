{
 "cells": [
  {
   "cell_type": "markdown",
   "metadata": {
    "slideshow": {
     "slide_type": "slide"
    }
   },
   "source": [
    "# Black magic with regular expressions\n",
    "\n",
    "An incredibly abbreviated overview of regex:\n",
    "\n",
    "- Regular Expressions are a mini-language for describing strings\n",
    "- Usually used to check if a string matches some pattern, or extract part of a structured string\n",
    "\n",
    "Interesting tidbits:\n",
    "\n",
    "- Regular expressions\\* are equivalent to finite state machines\n",
    "- We can therefore 'run it backwards' to spit out strings that would match!\n",
    "\n",
    "\n",
    "<small>*Group references and look-around assertions can't be computed in sub-exponential time, so 'PCRE' are not technically regular expressions.  But they're useful, so everyone handles them and risks DoS attacks anyway.*</small>"
   ]
  },
  {
   "cell_type": "markdown",
   "metadata": {
    "slideshow": {
     "slide_type": "slide"
    }
   },
   "source": [
    "## Hang on, why do we care?\n",
    "\n",
    "Because [Hypothesis](https://hypothesis.readthedocs.io) can now generate input strings for your tests using regular expressions.\n",
    "\n",
    "The rest of this talk is about how this works:\n",
    "\n",
    "- Hidden regex tools in the standard library\n",
    "- How we compile a regex parse tree into a Hypothesis strategy\n",
    "- Optimisations we have - and haven't - done"
   ]
  },
  {
   "cell_type": "code",
   "execution_count": 1,
   "metadata": {
    "slideshow": {
     "slide_type": "slide"
    }
   },
   "outputs": [
    {
     "data": {
      "text/plain": [
       "[(LITERAL, 104), (LITERAL, 116), (LITERAL, 116), (LITERAL, 112), (MAX_REPEAT, (0, 1, [(LITERAL, 115)]))]"
      ]
     },
     "execution_count": 1,
     "metadata": {},
     "output_type": "execute_result"
    }
   ],
   "source": [
    "from sre_parse import parse\n",
    "\n",
    "parse('http[s]?')"
   ]
  },
  {
   "cell_type": "code",
   "execution_count": 2,
   "metadata": {},
   "outputs": [
    {
     "data": {
      "text/plain": [
       "[(BRANCH, (None, [[(LITERAL, 97)], [(SUBPATTERN, (1, 0, 0, [(IN, [(LITERAL, 98), (LITERAL, 99)])]))]]))]"
      ]
     },
     "execution_count": 2,
     "metadata": {},
     "output_type": "execute_result"
    }
   ],
   "source": [
    "parse(b'a|(b|c)')"
   ]
  },
  {
   "cell_type": "markdown",
   "metadata": {},
   "source": [
    "So we can use the standard library to parse regex patterns, giving nested lists of tag/value pairs.\n",
    "\n",
    "Turning these back into strings is \"a simple matter of code\"... right?"
   ]
  },
  {
   "cell_type": "code",
   "execution_count": 3,
   "metadata": {
    "slideshow": {
     "slide_type": "slide"
    }
   },
   "outputs": [
    {
     "data": {
      "text/plain": [
       "from_regex(re.compile(r'^http[s]?://\\w+\\.com$', ))"
      ]
     },
     "execution_count": 3,
     "metadata": {},
     "output_type": "execute_result"
    }
   ],
   "source": [
    "import re\n",
    "from hypothesis.strategies import from_regex\n",
    "\n",
    "pattern = r'^http[s]?://\\w+\\.com$'\n",
    "pattern = re.compile(pattern, re.ASCII)\n",
    "strategy = from_regex(pattern)\n",
    "strategy"
   ]
  },
  {
   "cell_type": "code",
   "execution_count": 4,
   "metadata": {},
   "outputs": [
    {
     "name": "stdout",
     "output_type": "stream",
     "text": [
      "https://wqCuqJ.com\n",
      "https://5Ye4.com\n",
      "http://PUZtaV230SYT.com\n",
      "http://HwjdJ.com\n",
      "http://GOD6.com\n",
      "https://S.com\n",
      "https://1.com\n",
      "https://GVN0uM.com\n",
      "http://p.com\n",
      "http://AZ48q88y.com\n",
      "https://bl.com\n",
      "http://Rbyt.com\n",
      "http://i_SL.com\n",
      "https://Rr4.com\n",
      "https://w.com\n",
      "http://sf.com\n",
      "https://0aJwey3KNPf.com\n",
      "https://fK7Yc9iAfZ.com\n",
      "http://vShs.com\n",
      "http://gstccbSC331Pfal55Oow3OFF.com\n"
     ]
    }
   ],
   "source": [
    "for _ in range(20):\n",
    "    print(strategy.example().strip())"
   ]
  },
  {
   "cell_type": "code",
   "execution_count": 5,
   "metadata": {
    "slideshow": {
     "slide_type": "slide"
    }
   },
   "outputs": [
    {
     "data": {
      "text/plain": [
       "maybe_pad(regex=re.compile(r'^http[s]?://\\w+\\.com$', ), strategy=clear_cache_after_draw(tuples(just(''), just('http'), just('') | just('s'), just('://'), lists(elements=characters(whitelist_categories={'LC', 'Ll', 'Lm', 'Lo', 'Lt', 'Lu', 'Nd', 'Nl', 'No'}, blacklist_characters=set(), max_codepoint=127, whitelist_characters={'_'}), min_size=1).map(join), just('.com'), just('')).map(join)).filter(search), left_pad_strategy=just(''), right_pad_strategy=just('') | just('\\n'))"
      ]
     },
     "execution_count": 5,
     "metadata": {},
     "output_type": "execute_result"
    }
   ],
   "source": [
    "strategy.wrapped_strategy"
   ]
  },
  {
   "cell_type": "code",
   "execution_count": 6,
   "metadata": {},
   "outputs": [
    {
     "data": {
      "text/plain": [
       "'http://0.com'"
      ]
     },
     "execution_count": 6,
     "metadata": {},
     "output_type": "execute_result"
    }
   ],
   "source": [
    "from hypothesis import find\n",
    "\n",
    "find(strategy, bool)"
   ]
  },
  {
   "cell_type": "markdown",
   "metadata": {
    "slideshow": {
     "slide_type": "slide"
    }
   },
   "source": [
    "### Good news and bad news\n",
    "\n",
    "Good: \n",
    "\n",
    "- it actually works!\n",
    "- it's actually pretty useful!\n",
    "\n",
    "~~Bad~~ *Potential upgrades*:\n",
    "\n",
    "- complex strategies could do less work, if optimised in construction \n",
    "- some patterns break example shrinking"
   ]
  },
  {
   "cell_type": "markdown",
   "metadata": {
    "slideshow": {
     "slide_type": "slide"
    }
   },
   "source": [
    "### Example shrinking?"
   ]
  },
  {
   "cell_type": "code",
   "execution_count": 7,
   "metadata": {},
   "outputs": [
    {
     "name": "stdout",
     "output_type": "stream",
     "text": [
      "Falsifying example: test_mean(xs=[inf, -inf])\n",
      "Traceback (most recent call last):\n",
      "  File \"c:\\users\\zac\\documents\\github\\hypothesis-python\\src\\hypothesis\\core.py\", line 846, in run\n",
      "    print_example=True, is_final=True\n",
      "  File \"c:\\users\\zac\\documents\\github\\hypothesis-python\\src\\hypothesis\\executors.py\", line 58, in default_new_style_executor\n",
      "    return function(data)\n",
      "  File \"c:\\users\\zac\\documents\\github\\hypothesis-python\\src\\hypothesis\\core.py\", line 140, in run\n",
      "    return test(*args, **kwargs)\n",
      "  File \"<ipython-input-7-01e6dee80f48>\", line 4, in test_mean\n",
      "    @seed(302934307671667531413257853548643485645)\n",
      "  File \"c:\\users\\zac\\documents\\github\\hypothesis-python\\src\\hypothesis\\core.py\", line 591, in timed_test\n",
      "    result = test(*args, **kwargs)\n",
      "  File \"<ipython-input-7-01e6dee80f48>\", line 7, in test_mean\n",
      "    assert min(xs) <= mean <= max(xs), mean\n",
      "AssertionError: nan\n",
      "\n",
      "Falsifying example: test_mean(xs=[])\n",
      "Traceback (most recent call last):\n",
      "  File \"c:\\users\\zac\\documents\\github\\hypothesis-python\\src\\hypothesis\\core.py\", line 846, in run\n",
      "    print_example=True, is_final=True\n",
      "  File \"c:\\users\\zac\\documents\\github\\hypothesis-python\\src\\hypothesis\\executors.py\", line 58, in default_new_style_executor\n",
      "    return function(data)\n",
      "  File \"c:\\users\\zac\\documents\\github\\hypothesis-python\\src\\hypothesis\\core.py\", line 140, in run\n",
      "    return test(*args, **kwargs)\n",
      "  File \"<ipython-input-7-01e6dee80f48>\", line 4, in test_mean\n",
      "    @seed(302934307671667531413257853548643485645)\n",
      "  File \"c:\\users\\zac\\documents\\github\\hypothesis-python\\src\\hypothesis\\core.py\", line 591, in timed_test\n",
      "    result = test(*args, **kwargs)\n",
      "  File \"<ipython-input-7-01e6dee80f48>\", line 6, in test_mean\n",
      "    mean = sum(xs) / len(xs)\n",
      "ZeroDivisionError: division by zero\n",
      "\n"
     ]
    },
    {
     "ename": "MultipleFailures",
     "evalue": "Hypothesis found 2 distinct failures.",
     "output_type": "error",
     "traceback": [
      "\u001b[1;31m---------------------------------------------------------------------------\u001b[0m",
      "\u001b[1;31mMultipleFailures\u001b[0m                          Traceback (most recent call last)",
      "\u001b[1;32m<ipython-input-7-01e6dee80f48>\u001b[0m in \u001b[0;36m<module>\u001b[1;34m()\u001b[0m\n\u001b[0;32m      7\u001b[0m     \u001b[1;32massert\u001b[0m \u001b[0mmin\u001b[0m\u001b[1;33m(\u001b[0m\u001b[0mxs\u001b[0m\u001b[1;33m)\u001b[0m \u001b[1;33m<=\u001b[0m \u001b[0mmean\u001b[0m \u001b[1;33m<=\u001b[0m \u001b[0mmax\u001b[0m\u001b[1;33m(\u001b[0m\u001b[0mxs\u001b[0m\u001b[1;33m)\u001b[0m\u001b[1;33m,\u001b[0m \u001b[0mmean\u001b[0m\u001b[1;33m\u001b[0m\u001b[0m\n\u001b[0;32m      8\u001b[0m \u001b[1;33m\u001b[0m\u001b[0m\n\u001b[1;32m----> 9\u001b[1;33m \u001b[0mtest_mean\u001b[0m\u001b[1;33m(\u001b[0m\u001b[1;33m)\u001b[0m\u001b[1;33m\u001b[0m\u001b[0m\n\u001b[0m",
      "\u001b[1;32m<ipython-input-7-01e6dee80f48>\u001b[0m in \u001b[0;36mtest_mean\u001b[1;34m()\u001b[0m\n\u001b[0;32m      2\u001b[0m \u001b[1;33m\u001b[0m\u001b[0m\n\u001b[0;32m      3\u001b[0m \u001b[1;33m@\u001b[0m\u001b[0mgiven\u001b[0m\u001b[1;33m(\u001b[0m\u001b[0mst\u001b[0m\u001b[1;33m.\u001b[0m\u001b[0mlists\u001b[0m\u001b[1;33m(\u001b[0m\u001b[0mst\u001b[0m\u001b[1;33m.\u001b[0m\u001b[0mfloats\u001b[0m\u001b[1;33m(\u001b[0m\u001b[0mallow_nan\u001b[0m\u001b[1;33m=\u001b[0m\u001b[1;32mFalse\u001b[0m\u001b[1;33m)\u001b[0m\u001b[1;33m)\u001b[0m\u001b[1;33m)\u001b[0m\u001b[1;33m\u001b[0m\u001b[0m\n\u001b[1;32m----> 4\u001b[1;33m \u001b[1;33m@\u001b[0m\u001b[0mseed\u001b[0m\u001b[1;33m(\u001b[0m\u001b[1;36m302934307671667531413257853548643485645\u001b[0m\u001b[1;33m)\u001b[0m\u001b[1;33m\u001b[0m\u001b[0m\n\u001b[0m\u001b[0;32m      5\u001b[0m \u001b[1;32mdef\u001b[0m \u001b[0mtest_mean\u001b[0m\u001b[1;33m(\u001b[0m\u001b[0mxs\u001b[0m\u001b[1;33m)\u001b[0m\u001b[1;33m:\u001b[0m\u001b[1;33m\u001b[0m\u001b[0m\n\u001b[0;32m      6\u001b[0m     \u001b[0mmean\u001b[0m \u001b[1;33m=\u001b[0m \u001b[0msum\u001b[0m\u001b[1;33m(\u001b[0m\u001b[0mxs\u001b[0m\u001b[1;33m)\u001b[0m \u001b[1;33m/\u001b[0m \u001b[0mlen\u001b[0m\u001b[1;33m(\u001b[0m\u001b[0mxs\u001b[0m\u001b[1;33m)\u001b[0m\u001b[1;33m\u001b[0m\u001b[0m\n",
      "\u001b[1;32mc:\\users\\zac\\documents\\github\\hypothesis-python\\src\\hypothesis\\core.py\u001b[0m in \u001b[0;36mwrapped_test\u001b[1;34m(*arguments, **kwargs)\u001b[0m\n\u001b[0;32m   1006\u001b[0m                 state = StateForActualGivenExecution(\n\u001b[0;32m   1007\u001b[0m                     test_runner, search_strategy, test, settings, random)\n\u001b[1;32m-> 1008\u001b[1;33m                 \u001b[0mstate\u001b[0m\u001b[1;33m.\u001b[0m\u001b[0mrun\u001b[0m\u001b[1;33m(\u001b[0m\u001b[1;33m)\u001b[0m\u001b[1;33m\u001b[0m\u001b[0m\n\u001b[0m\u001b[0;32m   1009\u001b[0m             \u001b[1;32mexcept\u001b[0m\u001b[1;33m:\u001b[0m\u001b[1;33m\u001b[0m\u001b[0m\n\u001b[0;32m   1010\u001b[0m                 \u001b[0mgenerated_seed\u001b[0m \u001b[1;33m=\u001b[0m\u001b[0;31m \u001b[0m\u001b[0;31m\\\u001b[0m\u001b[1;33m\u001b[0m\u001b[0m\n",
      "\u001b[1;32mc:\\users\\zac\\documents\\github\\hypothesis-python\\src\\hypothesis\\core.py\u001b[0m in \u001b[0;36mrun\u001b[1;34m(self)\u001b[0m\n\u001b[0;32m    923\u001b[0m             raise MultipleFailures((\n\u001b[0;32m    924\u001b[0m                 \u001b[1;34m'Hypothesis found %d distinct failures.'\u001b[0m\u001b[1;33m)\u001b[0m \u001b[1;33m%\u001b[0m \u001b[1;33m(\u001b[0m\u001b[1;33m\u001b[0m\u001b[0m\n\u001b[1;32m--> 925\u001b[1;33m                     len(self.falsifying_examples,)))\n\u001b[0m\u001b[0;32m    926\u001b[0m \u001b[1;33m\u001b[0m\u001b[0m\n\u001b[0;32m    927\u001b[0m     \u001b[1;32mdef\u001b[0m \u001b[0m__flaky\u001b[0m\u001b[1;33m(\u001b[0m\u001b[0mself\u001b[0m\u001b[1;33m,\u001b[0m \u001b[0mmessage\u001b[0m\u001b[1;33m)\u001b[0m\u001b[1;33m:\u001b[0m\u001b[1;33m\u001b[0m\u001b[0m\n",
      "\u001b[1;31mMultipleFailures\u001b[0m: Hypothesis found 2 distinct failures."
     ]
    }
   ],
   "source": [
    "from hypothesis import seed, given, strategies as st\n",
    "\n",
    "@given(st.lists(st.floats(allow_nan=False)))\n",
    "@seed(302934307671667531413257853548643485645)\n",
    "def test_mean(xs):\n",
    "    mean = sum(xs) / len(xs)\n",
    "    assert min(xs) <= mean <= max(xs), mean\n",
    "\n",
    "test_mean()"
   ]
  },
  {
   "cell_type": "markdown",
   "metadata": {
    "slideshow": {
     "slide_type": "slide"
    }
   },
   "source": [
    "`find(strategy, predicate)` returns the smallest example from a strategy such that `predicate(example)` is True.  For example,"
   ]
  },
  {
   "cell_type": "code",
   "execution_count": 8,
   "metadata": {},
   "outputs": [
    {
     "data": {
      "text/plain": [
       "''"
      ]
     },
     "execution_count": 8,
     "metadata": {},
     "output_type": "execute_result"
    }
   ],
   "source": [
    "find(from_regex('^[ab]*'), lambda s: True)"
   ]
  },
  {
   "cell_type": "code",
   "execution_count": 9,
   "metadata": {},
   "outputs": [
    {
     "data": {
      "text/plain": [
       "'aaaaabb'"
      ]
     },
     "execution_count": 9,
     "metadata": {},
     "output_type": "execute_result"
    }
   ],
   "source": [
    "find(from_regex('^[ab]*'), lambda s: s.find('bb') >= 5)"
   ]
  },
  {
   "cell_type": "code",
   "execution_count": 10,
   "metadata": {
    "slideshow": {
     "slide_type": "slide"
    }
   },
   "outputs": [
    {
     "data": {
      "text/plain": [
       "'a'"
      ]
     },
     "execution_count": 10,
     "metadata": {},
     "output_type": "execute_result"
    }
   ],
   "source": [
    "find(from_regex('a|'), lambda s: True)"
   ]
  },
  {
   "cell_type": "markdown",
   "metadata": {},
   "source": [
    "Uh oh - the empty string would be a shorter match.  What happened here?\n",
    "\n",
    "- The pattern `'a|'` was parsed to  \n",
    "  `[(BRANCH, (None, [[(LITERAL, 97)], []]))]`\n",
    "- This parse tree was interpreted as `sampled_from(['a', ''])`\n",
    "- Hypothesis does not reorder branches\n",
    "\n",
    "Could you just reorder branches before interpreting them?"
   ]
  },
  {
   "cell_type": "markdown",
   "metadata": {
    "slideshow": {
     "slide_type": "slide"
    }
   },
   "source": [
    "### Mostly yes!\n",
    "\n",
    "Reordering branches, by the shortest matching string, would be a great start.  \n",
    "\n",
    "Better be careful about performance though, and we've \"only\" pushed there are still correctness issues lurking...\n",
    "\n",
    "`find(from_regex('a+|(bb)*?'), bool)`\n",
    "\n",
    "Reordering branches by shortest match will actually break this example!  The sequence of best matches goes  \n",
    "`'', a, aa, bb, aaa, aaaa, bbbb, aaaaa, aaaaaa, bbbbbb, ...`\n",
    "\n",
    "And putting 'zero or more of `'bb'`' before 'one or more `'a'`' gives the wrong answer for any predicate that requires a non-empty string."
   ]
  },
  {
   "cell_type": "markdown",
   "metadata": {
    "slideshow": {
     "slide_type": "slide"
    }
   },
   "source": [
    "### What else could we do?\n",
    "\n",
    "The only way to be *fully correct* is to generate all possible strings, sort them, and sample from the list.  Unfortunately this is impractical in the general case [citation needed].\n",
    "\n",
    "Some practical optimisations *might* include:\n",
    "\n",
    "- Split repeaters into branches for zero, one, or more repeats\n",
    "- 'lift' branches out of groups to make reordering more effective\n",
    "- Split other constructs (eg sets into branches between ranges)\n",
    "- 'fuse' nested constructs so branches can be lifted higher\n",
    "- Talk to compiler experts and ask for suggestions!\n",
    "\n",
    "The challenge is to balance performance, shrinking, and code complexity for real-world workloads.\n",
    "\n",
    "Got some ideas?  Talk to me, vist the issue tracker, and get a `#Hacktoberfest` T-shirt!"
   ]
  }
 ],
 "metadata": {
  "celltoolbar": "Slideshow",
  "kernelspec": {
   "display_name": "Python 3",
   "language": "python",
   "name": "python3"
  },
  "language_info": {
   "codemirror_mode": {
    "name": "ipython",
    "version": 3
   },
   "file_extension": ".py",
   "mimetype": "text/x-python",
   "name": "python",
   "nbconvert_exporter": "python",
   "pygments_lexer": "ipython3",
   "version": "3.6.0"
  }
 },
 "nbformat": 4,
 "nbformat_minor": 2
}
